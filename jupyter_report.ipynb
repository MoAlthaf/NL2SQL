{
 "cells": [
  {
   "cell_type": "markdown",
   "id": "b484e9db",
   "metadata": {},
   "source": [
    "# NL2NL Results Detailed Report\n",
    "\n",
    "This notebook provides a comprehensive analysis of the evaluation results from the NL2NL system."
   ]
  },
  {
   "cell_type": "code",
   "execution_count": 8,
   "id": "d3c52cda",
   "metadata": {},
   "outputs": [
    {
     "data": {
      "text/html": [
       "<div>\n",
       "<style scoped>\n",
       "    .dataframe tbody tr th:only-of-type {\n",
       "        vertical-align: middle;\n",
       "    }\n",
       "\n",
       "    .dataframe tbody tr th {\n",
       "        vertical-align: top;\n",
       "    }\n",
       "\n",
       "    .dataframe thead th {\n",
       "        text-align: right;\n",
       "    }\n",
       "</style>\n",
       "<table border=\"1\" class=\"dataframe\">\n",
       "  <thead>\n",
       "    <tr style=\"text-align: right;\">\n",
       "      <th></th>\n",
       "      <th>db_id</th>\n",
       "      <th>original_nl</th>\n",
       "      <th>paraphrased_nl</th>\n",
       "      <th>gt_nl</th>\n",
       "      <th>generated_sql</th>\n",
       "      <th>matched</th>\n",
       "      <th>attempts</th>\n",
       "    </tr>\n",
       "  </thead>\n",
       "  <tbody>\n",
       "    <tr>\n",
       "      <th>0</th>\n",
       "      <td>concert_singer</td>\n",
       "      <td>How many singers do we have?</td>\n",
       "      <td>What is the total number of singers in the sin...</td>\n",
       "      <td>SELECT count(*) FROM singer</td>\n",
       "      <td>SELECT count(*) FROM singer</td>\n",
       "      <td>True</td>\n",
       "      <td>1.0</td>\n",
       "    </tr>\n",
       "    <tr>\n",
       "      <th>1</th>\n",
       "      <td>concert_singer</td>\n",
       "      <td>What is the total number of singers?</td>\n",
       "      <td>What is the total count of singers?</td>\n",
       "      <td>SELECT count(*) FROM singer</td>\n",
       "      <td>SELECT count(*) FROM singer</td>\n",
       "      <td>True</td>\n",
       "      <td>1.0</td>\n",
       "    </tr>\n",
       "    <tr>\n",
       "      <th>2</th>\n",
       "      <td>concert_singer</td>\n",
       "      <td>Show name, country, age for all singers ordere...</td>\n",
       "      <td>What are the singer's name, country, and age, ...</td>\n",
       "      <td>SELECT name ,  country ,  age FROM singer ORDE...</td>\n",
       "      <td>SELECT name , country , age FROM singer ORDER ...</td>\n",
       "      <td>True</td>\n",
       "      <td>1.0</td>\n",
       "    </tr>\n",
       "    <tr>\n",
       "      <th>3</th>\n",
       "      <td>concert_singer</td>\n",
       "      <td>What are the names, countries, and ages for ev...</td>\n",
       "      <td>What are the singer's name, country, and age f...</td>\n",
       "      <td>SELECT name ,  country ,  age FROM singer ORDE...</td>\n",
       "      <td>SELECT name , country , age FROM singer ORDER ...</td>\n",
       "      <td>True</td>\n",
       "      <td>1.0</td>\n",
       "    </tr>\n",
       "    <tr>\n",
       "      <th>4</th>\n",
       "      <td>concert_singer</td>\n",
       "      <td>What is the average, minimum, and maximum age ...</td>\n",
       "      <td>What are the mean, lowest, and highest ages of...</td>\n",
       "      <td>SELECT avg(age) ,  min(age) ,  max(age) FROM s...</td>\n",
       "      <td>SELECT avg(age) as mean_age, min(age) as lowes...</td>\n",
       "      <td>True</td>\n",
       "      <td>1.0</td>\n",
       "    </tr>\n",
       "  </tbody>\n",
       "</table>\n",
       "</div>"
      ],
      "text/plain": [
       "            db_id                                        original_nl  \\\n",
       "0  concert_singer                       How many singers do we have?   \n",
       "1  concert_singer               What is the total number of singers?   \n",
       "2  concert_singer  Show name, country, age for all singers ordere...   \n",
       "3  concert_singer  What are the names, countries, and ages for ev...   \n",
       "4  concert_singer  What is the average, minimum, and maximum age ...   \n",
       "\n",
       "                                      paraphrased_nl  \\\n",
       "0  What is the total number of singers in the sin...   \n",
       "1                What is the total count of singers?   \n",
       "2  What are the singer's name, country, and age, ...   \n",
       "3  What are the singer's name, country, and age f...   \n",
       "4  What are the mean, lowest, and highest ages of...   \n",
       "\n",
       "                                               gt_nl  \\\n",
       "0                        SELECT count(*) FROM singer   \n",
       "1                        SELECT count(*) FROM singer   \n",
       "2  SELECT name ,  country ,  age FROM singer ORDE...   \n",
       "3  SELECT name ,  country ,  age FROM singer ORDE...   \n",
       "4  SELECT avg(age) ,  min(age) ,  max(age) FROM s...   \n",
       "\n",
       "                                       generated_sql  matched  attempts  \n",
       "0                        SELECT count(*) FROM singer     True       1.0  \n",
       "1                        SELECT count(*) FROM singer     True       1.0  \n",
       "2  SELECT name , country , age FROM singer ORDER ...     True       1.0  \n",
       "3  SELECT name , country , age FROM singer ORDER ...     True       1.0  \n",
       "4  SELECT avg(age) as mean_age, min(age) as lowes...     True       1.0  "
      ]
     },
     "execution_count": 8,
     "metadata": {},
     "output_type": "execute_result"
    }
   ],
   "source": [
    "import pandas as pd\n",
    "import matplotlib.pyplot as plt\n",
    "import seaborn as sns\n",
    "import numpy as np\n",
    "import os\n",
    "RESULTS_PATH = \"result/results.csv\"\n",
    "if not os.path.exists(RESULTS_PATH):\n",
    "    raise FileNotFoundError(f\"Results file not found: {RESULTS_PATH}\")\n",
    "df = pd.read_csv(RESULTS_PATH)\n",
    "df.head()"
   ]
  },
  {
   "cell_type": "markdown",
   "id": "262281a5",
   "metadata": {},
   "source": [
    "## Summary Statistics"
   ]
  },
  {
   "cell_type": "code",
   "execution_count": 9,
   "id": "e45499c9",
   "metadata": {},
   "outputs": [
    {
     "name": "stdout",
     "output_type": "stream",
     "text": [
      "Total Samples Evaluated: 1034\n",
      "Correct SQL Matches:     788\n",
      "Accuracy:                76.21%\n"
     ]
    }
   ],
   "source": [
    "# Compute and display summary statistics\n",
    "total = len(df)\n",
    "correct = df[\"matched\"].sum() if \"matched\" in df.columns else 0\n",
    "accuracy = (correct / total * 100) if total > 0 else 0.0\n",
    "print(f\"Total Samples Evaluated: {total}\")\n",
    "print(f\"Correct SQL Matches:     {correct}\")\n",
    "print(f\"Accuracy:                {accuracy:.2f}%\")"
   ]
  },
  {
   "cell_type": "markdown",
   "id": "bb794378",
   "metadata": {},
   "source": [
    "## Accuracy Visualization\n",
    "\n",
    "The following plot visualizes the distribution of correct and incorrect SQL matches in the dataset."
   ]
  },
  {
   "cell_type": "code",
   "execution_count": 10,
   "id": "6f872e2b",
   "metadata": {},
   "outputs": [
    {
     "name": "stderr",
     "output_type": "stream",
     "text": [
      "/tmp/ipykernel_602176/896086854.py:4: FutureWarning: \n",
      "\n",
      "Passing `palette` without assigning `hue` is deprecated and will be removed in v0.14.0. Assign the `x` variable to `hue` and set `legend=False` for the same effect.\n",
      "\n",
      "  sns.countplot(x=\"matched\", data=df, palette=\"Set2\")\n"
     ]
    },
    {
     "data": {
      "image/png": "[encoded data removed]",
      "text/plain": [
       "<Figure size 600x400 with 1 Axes>"
      ]
     },
     "metadata": {},
     "output_type": "display_data"
    }
   ],
   "source": [
    "# Plot the distribution of correct and incorrect SQL matches\n",
    "if \"matched\" in df.columns:\n",
    "    plt.figure(figsize=(6,4))\n",
    "    sns.countplot(x=\"matched\", data=df, palette=\"Set2\")\n",
    "    plt.xticks([0,1], [\"Incorrect\", \"Correct\"]);\n",
    "    plt.title(\"Distribution of SQL Match Results\")\n",
    "    plt.xlabel(\"Match Result\")\n",
    "    plt.ylabel(\"Count\")\n",
    "    plt.show()\n",
    "else:\n",
    "    print(\"No 'matched' column in results.\")"
   ]
  },
  {
   "cell_type": "markdown",
   "id": "c0f1ac00",
   "metadata": {},
   "source": [
    "## Attempts Analysis\n",
    "\n",
    "This section analyzes the number of attempts taken to achieve a correct SQL match, including average, minimum, and maximum attempts, and visualizes the distribution."
   ]
  },
  {
   "cell_type": "code",
   "execution_count": 11,
   "id": "f1499f82",
   "metadata": {},
   "outputs": [
    {
     "name": "stderr",
     "output_type": "stream",
     "text": [
      "/tmp/ipykernel_602176/1490870792.py:7: FutureWarning: \n",
      "\n",
      "Passing `palette` without assigning `hue` is deprecated and will be removed in v0.14.0. Assign the `x` variable to `hue` and set `legend=False` for the same effect.\n",
      "\n",
      "  sns.barplot(x=attempt_counts.index, y=attempt_counts.values, palette=\"Blues_d\")\n"
     ]
    },
    {
     "data": {
      "image/png": "[encoded data removed]",
      "text/plain": [
       "<Figure size 700x400 with 1 Axes>"
      ]
     },
     "metadata": {},
     "output_type": "display_data"
    }
   ],
   "source": [
    "# Bar chart: Number of Attempts vs Count\n",
    "if \"attempts\" in df.columns:\n",
    "    attempts_valid = df[\"attempts\"].replace(-1, pd.NA).dropna().astype(int)\n",
    "    if not attempts_valid.empty:\n",
    "        attempt_counts = attempts_valid.value_counts().sort_index()\n",
    "        plt.figure(figsize=(7,4))\n",
    "        sns.barplot(x=attempt_counts.index, y=attempt_counts.values, palette=\"Blues_d\")\n",
    "        plt.title(\"Number of Attempts vs Count\")\n",
    "        plt.xlabel(\"Number of Attempts\")\n",
    "        plt.ylabel(\"Count\")\n",
    "        plt.xticks(attempt_counts.index)\n",
    "        plt.show()\n",
    "    else:\n",
    "        print(\"No valid attempts data available.\")\n",
    "else:\n",
    "    print(\"No 'attempts' column in results.\")"
   ]
  },
  {
   "cell_type": "markdown",
   "id": "dd9afe93",
   "metadata": {},
   "source": [
    "## Failed Cases Analysis\n",
    "\n",
    "This section reviews the failed cases (where the SQL did not match), provides statistics, and displays a sample of failed questions for further inspection."
   ]
  },
  {
   "cell_type": "code",
   "execution_count": 12,
   "id": "b6c61fb5",
   "metadata": {},
   "outputs": [
    {
     "name": "stdout",
     "output_type": "stream",
     "text": [
      "Failed Cases: 246\n",
      "Sample failed cases:\n"
     ]
    },
    {
     "data": {
      "text/html": [
       "<div>\n",
       "<style scoped>\n",
       "    .dataframe tbody tr th:only-of-type {\n",
       "        vertical-align: middle;\n",
       "    }\n",
       "\n",
       "    .dataframe tbody tr th {\n",
       "        vertical-align: top;\n",
       "    }\n",
       "\n",
       "    .dataframe thead th {\n",
       "        text-align: right;\n",
       "    }\n",
       "</style>\n",
       "<table border=\"1\" class=\"dataframe\">\n",
       "  <thead>\n",
       "    <tr style=\"text-align: right;\">\n",
       "      <th></th>\n",
       "      <th>db_id</th>\n",
       "      <th>attempts</th>\n",
       "    </tr>\n",
       "  </thead>\n",
       "  <tbody>\n",
       "    <tr>\n",
       "      <th>6</th>\n",
       "      <td>concert_singer</td>\n",
       "      <td>-1.0</td>\n",
       "    </tr>\n",
       "    <tr>\n",
       "      <th>11</th>\n",
       "      <td>concert_singer</td>\n",
       "      <td>-1.0</td>\n",
       "    </tr>\n",
       "    <tr>\n",
       "      <th>25</th>\n",
       "      <td>concert_singer</td>\n",
       "      <td>-1.0</td>\n",
       "    </tr>\n",
       "    <tr>\n",
       "      <th>31</th>\n",
       "      <td>concert_singer</td>\n",
       "      <td>-1.0</td>\n",
       "    </tr>\n",
       "    <tr>\n",
       "      <th>32</th>\n",
       "      <td>concert_singer</td>\n",
       "      <td>-1.0</td>\n",
       "    </tr>\n",
       "  </tbody>\n",
       "</table>\n",
       "</div>"
      ],
      "text/plain": [
       "             db_id  attempts\n",
       "6   concert_singer      -1.0\n",
       "11  concert_singer      -1.0\n",
       "25  concert_singer      -1.0\n",
       "31  concert_singer      -1.0\n",
       "32  concert_singer      -1.0"
      ]
     },
     "metadata": {},
     "output_type": "display_data"
    }
   ],
   "source": [
    "# Analyze and display failed cases\n",
    "if \"matched\" in df.columns:\n",
    "    failed = df[df[\"matched\"] == 0]\n",
    "    n_failed = len(failed)\n",
    "    print(f\"Failed Cases: {n_failed}\")\n",
    "    if n_failed > 0:\n",
    "        display_cols = [col for col in [\"db_id\", \"question\", \"attempts\"] if col in failed.columns]\n",
    "        print(\"Sample failed cases:\")\n",
    "        display(failed[display_cols].head(5))\n",
    "    else:\n",
    "        print(\"No failed cases.\")\n",
    "else:\n",
    "    print(\"No 'matched' column in results.\")"
   ]
  },
  {
   "cell_type": "code",
   "execution_count": null,
   "id": "81cd2c77",
   "metadata": {},
   "outputs": [],
   "source": []
  }
 ],
 "metadata": {
  "kernelspec": {
   "display_name": "myenv",
   "language": "python",
   "name": "python3"
  },
  "language_info": {
   "codemirror_mode": {
    "name": "ipython",
    "version": 3
   },
   "file_extension": ".py",
   "mimetype": "text/x-python",
   "name": "python",
   "nbconvert_exporter": "python",
   "pygments_lexer": "ipython3",
   "version": "3.12.9"
  }
 },
 "nbformat": 4,
 "nbformat_minor": 5
}
