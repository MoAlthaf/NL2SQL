{
 "cells": [
  {
   "cell_type": "code",
   "execution_count": 1,
   "id": "79a4fc81",
   "metadata": {},
   "outputs": [
    {
     "name": "stderr",
     "output_type": "stream",
     "text": [
      "C:\\Users\\altha\\AppData\\Roaming\\Python\\Python311\\site-packages\\pandas\\core\\arrays\\masked.py:60: UserWarning: Pandas requires version '1.3.6' or newer of 'bottleneck' (version '1.3.5' currently installed).\n",
      "  from pandas.core import (\n"
     ]
    }
   ],
   "source": [
    "@article{yu2018spider,\n",
    "  title={Spider: A large-scale human-labeled dataset for complex and cross-domain semantic parsing and text-to-sql task},\n",
    "  author={Yu, Tao and Zhang, Rui and Yang, Kai and Yasunaga, Michihiro and Wang, Dongxu and Li, Zifan and Ma, James and Li, Irene and Yao, Qingning and Roman, Shanelle and others},\n",
    "  journal={arXiv preprint arXiv:1809.08887},\n",
    "  year={2018}\n",
    "} \n",
    "\n",
    "\n",
    "#df = pd.read_json(\"hf://datasets/richardr1126/spider-natsql-context-validation/validation.json\")"
   ]
  },
  {
   "cell_type": "code",
   "execution_count": 3,
   "id": "35f5ce24",
   "metadata": {},
   "outputs": [
    {
     "data": {
      "text/html": [
       "<div>\n",
       "<style scoped>\n",
       "    .dataframe tbody tr th:only-of-type {\n",
       "        vertical-align: middle;\n",
       "    }\n",
       "\n",
       "    .dataframe tbody tr th {\n",
       "        vertical-align: top;\n",
       "    }\n",
       "\n",
       "    .dataframe thead th {\n",
       "        text-align: right;\n",
       "    }\n",
       "</style>\n",
       "<table border=\"1\" class=\"dataframe\">\n",
       "  <thead>\n",
       "    <tr style=\"text-align: right;\">\n",
       "      <th></th>\n",
       "      <th>db_id</th>\n",
       "      <th>prompt</th>\n",
       "      <th>ground_truth</th>\n",
       "    </tr>\n",
       "  </thead>\n",
       "  <tbody>\n",
       "    <tr>\n",
       "      <th>0</th>\n",
       "      <td>concert_singer</td>\n",
       "      <td>Below is an instruction that describes a task,...</td>\n",
       "      <td>select count ( singer.* )  from singer</td>\n",
       "    </tr>\n",
       "    <tr>\n",
       "      <th>1</th>\n",
       "      <td>concert_singer</td>\n",
       "      <td>Below is an instruction that describes a task,...</td>\n",
       "      <td>select count ( singer.* )  from singer</td>\n",
       "    </tr>\n",
       "    <tr>\n",
       "      <th>2</th>\n",
       "      <td>concert_singer</td>\n",
       "      <td>Below is an instruction that describes a task,...</td>\n",
       "      <td>select singer.Name , singer.Country , singer.A...</td>\n",
       "    </tr>\n",
       "    <tr>\n",
       "      <th>3</th>\n",
       "      <td>concert_singer</td>\n",
       "      <td>Below is an instruction that describes a task,...</td>\n",
       "      <td>select singer.Name , singer.Country , singer.A...</td>\n",
       "    </tr>\n",
       "    <tr>\n",
       "      <th>4</th>\n",
       "      <td>concert_singer</td>\n",
       "      <td>Below is an instruction that describes a task,...</td>\n",
       "      <td>select avg ( singer.Age )  , min ( singer.Age ...</td>\n",
       "    </tr>\n",
       "  </tbody>\n",
       "</table>\n",
       "</div>"
      ],
      "text/plain": [
       "            db_id                                             prompt  \\\n",
       "0  concert_singer  Below is an instruction that describes a task,...   \n",
       "1  concert_singer  Below is an instruction that describes a task,...   \n",
       "2  concert_singer  Below is an instruction that describes a task,...   \n",
       "3  concert_singer  Below is an instruction that describes a task,...   \n",
       "4  concert_singer  Below is an instruction that describes a task,...   \n",
       "\n",
       "                                        ground_truth  \n",
       "0             select count ( singer.* )  from singer  \n",
       "1             select count ( singer.* )  from singer  \n",
       "2  select singer.Name , singer.Country , singer.A...  \n",
       "3  select singer.Name , singer.Country , singer.A...  \n",
       "4  select avg ( singer.Age )  , min ( singer.Age ...  "
      ]
     },
     "execution_count": 3,
     "metadata": {},
     "output_type": "execute_result"
    }
   ],
   "source": [
    "import pandas as pd\n",
    "\n",
    "df_raw=pd.read_csv(\"../dataset.csv\")\n",
    "df_raw.head()"
   ]
  },
  {
   "cell_type": "code",
   "execution_count": 4,
   "id": "73581156",
   "metadata": {},
   "outputs": [],
   "source": [
    "df_raw[\"Question\"]=df_raw[\"prompt\"].apply(lambda x : x.split(\"Convert text to NatSQL: \")[1].split(\"|\")[0].strip())"
   ]
  },
  {
   "cell_type": "code",
   "execution_count": 27,
   "id": "cd3e3a68-20db-4380-848a-5be0cb398a54",
   "metadata": {},
   "outputs": [
    {
     "data": {
      "text/html": [
       "<div>\n",
       "<style scoped>\n",
       "    .dataframe tbody tr th:only-of-type {\n",
       "        vertical-align: middle;\n",
       "    }\n",
       "\n",
       "    .dataframe tbody tr th {\n",
       "        vertical-align: top;\n",
       "    }\n",
       "\n",
       "    .dataframe thead th {\n",
       "        text-align: right;\n",
       "    }\n",
       "</style>\n",
       "<table border=\"1\" class=\"dataframe\">\n",
       "  <thead>\n",
       "    <tr style=\"text-align: right;\">\n",
       "      <th></th>\n",
       "      <th>db_id</th>\n",
       "      <th>prompt</th>\n",
       "      <th>ground_truth</th>\n",
       "      <th>Question</th>\n",
       "    </tr>\n",
       "  </thead>\n",
       "  <tbody>\n",
       "    <tr>\n",
       "      <th>0</th>\n",
       "      <td>concert_singer</td>\n",
       "      <td>Below is an instruction that describes a task,...</td>\n",
       "      <td>select count ( singer.* )  from singer</td>\n",
       "      <td>How many singers do we have?</td>\n",
       "    </tr>\n",
       "    <tr>\n",
       "      <th>1</th>\n",
       "      <td>concert_singer</td>\n",
       "      <td>Below is an instruction that describes a task,...</td>\n",
       "      <td>select count ( singer.* )  from singer</td>\n",
       "      <td>What is the total number of singers?</td>\n",
       "    </tr>\n",
       "    <tr>\n",
       "      <th>2</th>\n",
       "      <td>concert_singer</td>\n",
       "      <td>Below is an instruction that describes a task,...</td>\n",
       "      <td>select singer.Name , singer.Country , singer.A...</td>\n",
       "      <td>Show name, country, age for all singers ordere...</td>\n",
       "    </tr>\n",
       "    <tr>\n",
       "      <th>3</th>\n",
       "      <td>concert_singer</td>\n",
       "      <td>Below is an instruction that describes a task,...</td>\n",
       "      <td>select singer.Name , singer.Country , singer.A...</td>\n",
       "      <td>What are the names, countries, and ages for ev...</td>\n",
       "    </tr>\n",
       "    <tr>\n",
       "      <th>4</th>\n",
       "      <td>concert_singer</td>\n",
       "      <td>Below is an instruction that describes a task,...</td>\n",
       "      <td>select avg ( singer.Age )  , min ( singer.Age ...</td>\n",
       "      <td>What is the average, minimum, and maximum age ...</td>\n",
       "    </tr>\n",
       "  </tbody>\n",
       "</table>\n",
       "</div>"
      ],
      "text/plain": [
       "            db_id                                             prompt  \\\n",
       "0  concert_singer  Below is an instruction that describes a task,...   \n",
       "1  concert_singer  Below is an instruction that describes a task,...   \n",
       "2  concert_singer  Below is an instruction that describes a task,...   \n",
       "3  concert_singer  Below is an instruction that describes a task,...   \n",
       "4  concert_singer  Below is an instruction that describes a task,...   \n",
       "\n",
       "                                        ground_truth  \\\n",
       "0             select count ( singer.* )  from singer   \n",
       "1             select count ( singer.* )  from singer   \n",
       "2  select singer.Name , singer.Country , singer.A...   \n",
       "3  select singer.Name , singer.Country , singer.A...   \n",
       "4  select avg ( singer.Age )  , min ( singer.Age ...   \n",
       "\n",
       "                                            Question  \n",
       "0                       How many singers do we have?  \n",
       "1               What is the total number of singers?  \n",
       "2  Show name, country, age for all singers ordere...  \n",
       "3  What are the names, countries, and ages for ev...  \n",
       "4  What is the average, minimum, and maximum age ...  "
      ]
     },
     "execution_count": 27,
     "metadata": {},
     "output_type": "execute_result"
    }
   ],
   "source": [
    "df_raw.head()"
   ]
  },
  {
   "cell_type": "code",
   "execution_count": 11,
   "id": "0d262c71-7e9f-4085-b918-7c2dcd57ed97",
   "metadata": {},
   "outputs": [
    {
     "name": "stdout",
     "output_type": "stream",
     "text": [
      "How many singers do we have?\n",
      "select count ( singer.* )  from singer\n",
      "concert_singer\n",
      "What is the total number of singers?\n",
      "select count ( singer.* )  from singer\n",
      "concert_singer\n",
      "Show name, country, age for all singers ordered by age from the oldest to the youngest.\n",
      "select singer.Name , singer.Country , singer.Age from singer  order by singer.Age desc\n",
      "concert_singer\n",
      "What are the names, countries, and ages for every singer in descending order of age?\n",
      "select singer.Name , singer.Country , singer.Age from singer  order by singer.Age desc\n",
      "concert_singer\n",
      "What is the average, minimum, and maximum age of all singers from France?\n",
      "select avg ( singer.Age )  , min ( singer.Age )  , max ( singer.Age )  from singer  where  singer.Country = \"France\"\n",
      "concert_singer\n",
      "What is the average, minimum, and maximum age for all French singers?\n",
      "select avg ( singer.Age )  , min ( singer.Age )  , max ( singer.Age )  from singer  where  singer.Country = \"France\"\n",
      "concert_singer\n",
      "Show the name and the release year of the song by the youngest singer.\n",
      "select singer.Song_Name , singer.Song_release_year from singer  order by singer.Age asc limit 1\n",
      "concert_singer\n",
      "What are the names and release years for all the songs of the youngest singer?\n",
      "select singer.Song_Name , singer.Song_release_year from singer  order by singer.Age asc limit 1\n",
      "concert_singer\n",
      "What are all distinct countries where singers above age 20 are from?\n",
      "select  distinct singer.Country from singer  where  singer.Age > 20\n",
      "concert_singer\n",
      "What are  the different countries with singers above age 20?\n",
      "select  distinct singer.Country from singer  where  singer.Age > 20\n",
      "concert_singer\n"
     ]
    }
   ],
   "source": [
    "for i, row in df_raw.head(10).iterrows():\n",
    "    original_nl = row['Question']\n",
    "    gt_sql = row['ground_truth']\n",
    "    db_id = row['db_id']\n",
    "    print(original_nl)\n",
    "    print(gt_sql)\n",
    "    print(db_id)"
   ]
  },
  {
   "cell_type": "code",
   "execution_count": 17,
   "id": "5c4eeb3c",
   "metadata": {},
   "outputs": [
    {
     "data": {
      "text/html": [
       "<div>\n",
       "<style scoped>\n",
       "    .dataframe tbody tr th:only-of-type {\n",
       "        vertical-align: middle;\n",
       "    }\n",
       "\n",
       "    .dataframe tbody tr th {\n",
       "        vertical-align: top;\n",
       "    }\n",
       "\n",
       "    .dataframe thead th {\n",
       "        text-align: right;\n",
       "    }\n",
       "</style>\n",
       "<table border=\"1\" class=\"dataframe\">\n",
       "  <thead>\n",
       "    <tr style=\"text-align: right;\">\n",
       "      <th></th>\n",
       "      <th>First</th>\n",
       "      <th>Second</th>\n",
       "    </tr>\n",
       "  </thead>\n",
       "  <tbody>\n",
       "    <tr>\n",
       "      <th>0</th>\n",
       "      <td>Query</td>\n",
       "      <td>NaN</td>\n",
       "    </tr>\n",
       "    <tr>\n",
       "      <th>1</th>\n",
       "      <td>SELECT count(*) FROM singer</td>\n",
       "      <td>concert_singer</td>\n",
       "    </tr>\n",
       "    <tr>\n",
       "      <th>2</th>\n",
       "      <td>SELECT count(*) FROM singer</td>\n",
       "      <td>concert_singer</td>\n",
       "    </tr>\n",
       "    <tr>\n",
       "      <th>3</th>\n",
       "      <td>SELECT name ,  country ,  age FROM singer ORDE...</td>\n",
       "      <td>concert_singer</td>\n",
       "    </tr>\n",
       "    <tr>\n",
       "      <th>4</th>\n",
       "      <td>SELECT name ,  country ,  age FROM singer ORDE...</td>\n",
       "      <td>concert_singer</td>\n",
       "    </tr>\n",
       "  </tbody>\n",
       "</table>\n",
       "</div>"
      ],
      "text/plain": [
       "                                               First          Second\n",
       "0                                              Query             NaN\n",
       "1                        SELECT count(*) FROM singer  concert_singer\n",
       "2                        SELECT count(*) FROM singer  concert_singer\n",
       "3  SELECT name ,  country ,  age FROM singer ORDE...  concert_singer\n",
       "4  SELECT name ,  country ,  age FROM singer ORDE...  concert_singer"
      ]
     },
     "execution_count": 17,
     "metadata": {},
     "output_type": "execute_result"
    }
   ],
   "source": [
    "runnable_sql=pd.read_csv(\"../dataset/runnable_sql.csv\",names=[\"First\",\"Second\"])\n",
    "runnable_sql.head()"
   ]
  },
  {
   "cell_type": "code",
   "execution_count": 20,
   "id": "500acfb2",
   "metadata": {},
   "outputs": [
    {
     "data": {
      "text/html": [
       "<div>\n",
       "<style scoped>\n",
       "    .dataframe tbody tr th:only-of-type {\n",
       "        vertical-align: middle;\n",
       "    }\n",
       "\n",
       "    .dataframe tbody tr th {\n",
       "        vertical-align: top;\n",
       "    }\n",
       "\n",
       "    .dataframe thead th {\n",
       "        text-align: right;\n",
       "    }\n",
       "</style>\n",
       "<table border=\"1\" class=\"dataframe\">\n",
       "  <thead>\n",
       "    <tr style=\"text-align: right;\">\n",
       "      <th></th>\n",
       "      <th>0</th>\n",
       "    </tr>\n",
       "  </thead>\n",
       "  <tbody>\n",
       "    <tr>\n",
       "      <th>0</th>\n",
       "      <td>NaN</td>\n",
       "    </tr>\n",
       "    <tr>\n",
       "      <th>1</th>\n",
       "      <td>SELECT count(*) FROM singerconcert_singer</td>\n",
       "    </tr>\n",
       "    <tr>\n",
       "      <th>2</th>\n",
       "      <td>SELECT count(*) FROM singerconcert_singer</td>\n",
       "    </tr>\n",
       "    <tr>\n",
       "      <th>3</th>\n",
       "      <td>SELECT name ,  country ,  age FROM singer ORDE...</td>\n",
       "    </tr>\n",
       "    <tr>\n",
       "      <th>4</th>\n",
       "      <td>SELECT name ,  country ,  age FROM singer ORDE...</td>\n",
       "    </tr>\n",
       "  </tbody>\n",
       "</table>\n",
       "</div>"
      ],
      "text/plain": [
       "                                                   0\n",
       "0                                                NaN\n",
       "1          SELECT count(*) FROM singerconcert_singer\n",
       "2          SELECT count(*) FROM singerconcert_singer\n",
       "3  SELECT name ,  country ,  age FROM singer ORDE...\n",
       "4  SELECT name ,  country ,  age FROM singer ORDE..."
      ]
     },
     "execution_count": 20,
     "metadata": {},
     "output_type": "execute_result"
    }
   ],
   "source": [
    "new_df=pd.DataFrame(runnable_sql[\"First\"]+runnable_sql[\"Second\"])\n",
    "new_df.head()"
   ]
  },
  {
   "cell_type": "code",
   "execution_count": 21,
   "id": "436b1cbe",
   "metadata": {},
   "outputs": [],
   "source": [
    "new_df.to_csv(\"runnable_sql.csv\",index=False)"
   ]
  },
  {
   "cell_type": "code",
   "execution_count": 34,
   "id": "0a097333",
   "metadata": {},
   "outputs": [
    {
     "data": {
      "text/html": [
       "<div>\n",
       "<style scoped>\n",
       "    .dataframe tbody tr th:only-of-type {\n",
       "        vertical-align: middle;\n",
       "    }\n",
       "\n",
       "    .dataframe tbody tr th {\n",
       "        vertical-align: top;\n",
       "    }\n",
       "\n",
       "    .dataframe thead th {\n",
       "        text-align: right;\n",
       "    }\n",
       "</style>\n",
       "<table border=\"1\" class=\"dataframe\">\n",
       "  <thead>\n",
       "    <tr style=\"text-align: right;\">\n",
       "      <th></th>\n",
       "      <th>query</th>\n",
       "    </tr>\n",
       "  </thead>\n",
       "  <tbody>\n",
       "    <tr>\n",
       "      <th>0</th>\n",
       "      <td>SELECT count(*) FROM singerconcert_singer</td>\n",
       "    </tr>\n",
       "    <tr>\n",
       "      <th>1</th>\n",
       "      <td>SELECT count(*) FROM singerconcert_singer</td>\n",
       "    </tr>\n",
       "    <tr>\n",
       "      <th>2</th>\n",
       "      <td>SELECT name ,  country ,  age FROM singer ORDE...</td>\n",
       "    </tr>\n",
       "    <tr>\n",
       "      <th>3</th>\n",
       "      <td>SELECT name ,  country ,  age FROM singer ORDE...</td>\n",
       "    </tr>\n",
       "    <tr>\n",
       "      <th>4</th>\n",
       "      <td>SELECT avg(age) ,  min(age) ,  max(age) FROM s...</td>\n",
       "    </tr>\n",
       "  </tbody>\n",
       "</table>\n",
       "</div>"
      ],
      "text/plain": [
       "                                               query\n",
       "0          SELECT count(*) FROM singerconcert_singer\n",
       "1          SELECT count(*) FROM singerconcert_singer\n",
       "2  SELECT name ,  country ,  age FROM singer ORDE...\n",
       "3  SELECT name ,  country ,  age FROM singer ORDE...\n",
       "4  SELECT avg(age) ,  min(age) ,  max(age) FROM s..."
      ]
     },
     "execution_count": 34,
     "metadata": {},
     "output_type": "execute_result"
    }
   ],
   "source": [
    "runnable_sql=pd.read_csv(\"../dataset/runnable_sql.csv\",header=None,names=[\"query\"])\n",
    "runnable_sql.head()"
   ]
  },
  {
   "cell_type": "code",
   "execution_count": 26,
   "id": "73820022",
   "metadata": {},
   "outputs": [],
   "source": [
    "runnable_sql.to_csv(\"runnable_sql.csv\")"
   ]
  },
  {
   "cell_type": "code",
   "execution_count": 35,
   "id": "f035052e",
   "metadata": {},
   "outputs": [
    {
     "data": {
      "text/html": [
       "<div>\n",
       "<style scoped>\n",
       "    .dataframe tbody tr th:only-of-type {\n",
       "        vertical-align: middle;\n",
       "    }\n",
       "\n",
       "    .dataframe tbody tr th {\n",
       "        vertical-align: top;\n",
       "    }\n",
       "\n",
       "    .dataframe thead th {\n",
       "        text-align: right;\n",
       "    }\n",
       "</style>\n",
       "<table border=\"1\" class=\"dataframe\">\n",
       "  <thead>\n",
       "    <tr style=\"text-align: right;\">\n",
       "      <th></th>\n",
       "      <th>db_id</th>\n",
       "      <th>prompt</th>\n",
       "      <th>ground_truth</th>\n",
       "    </tr>\n",
       "  </thead>\n",
       "  <tbody>\n",
       "    <tr>\n",
       "      <th>0</th>\n",
       "      <td>concert_singer</td>\n",
       "      <td>Below is an instruction that describes a task,...</td>\n",
       "      <td>select count ( singer.* )  from singer</td>\n",
       "    </tr>\n",
       "    <tr>\n",
       "      <th>1</th>\n",
       "      <td>concert_singer</td>\n",
       "      <td>Below is an instruction that describes a task,...</td>\n",
       "      <td>select count ( singer.* )  from singer</td>\n",
       "    </tr>\n",
       "    <tr>\n",
       "      <th>2</th>\n",
       "      <td>concert_singer</td>\n",
       "      <td>Below is an instruction that describes a task,...</td>\n",
       "      <td>select singer.Name , singer.Country , singer.A...</td>\n",
       "    </tr>\n",
       "    <tr>\n",
       "      <th>3</th>\n",
       "      <td>concert_singer</td>\n",
       "      <td>Below is an instruction that describes a task,...</td>\n",
       "      <td>select singer.Name , singer.Country , singer.A...</td>\n",
       "    </tr>\n",
       "    <tr>\n",
       "      <th>4</th>\n",
       "      <td>concert_singer</td>\n",
       "      <td>Below is an instruction that describes a task,...</td>\n",
       "      <td>select avg ( singer.Age )  , min ( singer.Age ...</td>\n",
       "    </tr>\n",
       "  </tbody>\n",
       "</table>\n",
       "</div>"
      ],
      "text/plain": [
       "            db_id                                             prompt  \\\n",
       "0  concert_singer  Below is an instruction that describes a task,...   \n",
       "1  concert_singer  Below is an instruction that describes a task,...   \n",
       "2  concert_singer  Below is an instruction that describes a task,...   \n",
       "3  concert_singer  Below is an instruction that describes a task,...   \n",
       "4  concert_singer  Below is an instruction that describes a task,...   \n",
       "\n",
       "                                        ground_truth  \n",
       "0             select count ( singer.* )  from singer  \n",
       "1             select count ( singer.* )  from singer  \n",
       "2  select singer.Name , singer.Country , singer.A...  \n",
       "3  select singer.Name , singer.Country , singer.A...  \n",
       "4  select avg ( singer.Age )  , min ( singer.Age ...  "
      ]
     },
     "execution_count": 35,
     "metadata": {},
     "output_type": "execute_result"
    }
   ],
   "source": [
    "df_raw=pd.read_csv(\"../dataset/dataset.csv\")\n",
    "df_raw.head()"
   ]
  },
  {
   "cell_type": "code",
   "execution_count": 36,
   "id": "944a368c",
   "metadata": {},
   "outputs": [
    {
     "data": {
      "text/html": [
       "<div>\n",
       "<style scoped>\n",
       "    .dataframe tbody tr th:only-of-type {\n",
       "        vertical-align: middle;\n",
       "    }\n",
       "\n",
       "    .dataframe tbody tr th {\n",
       "        vertical-align: top;\n",
       "    }\n",
       "\n",
       "    .dataframe thead th {\n",
       "        text-align: right;\n",
       "    }\n",
       "</style>\n",
       "<table border=\"1\" class=\"dataframe\">\n",
       "  <thead>\n",
       "    <tr style=\"text-align: right;\">\n",
       "      <th></th>\n",
       "      <th>db_id</th>\n",
       "      <th>prompt</th>\n",
       "      <th>ground_truth</th>\n",
       "      <th>runnable_sql</th>\n",
       "    </tr>\n",
       "  </thead>\n",
       "  <tbody>\n",
       "    <tr>\n",
       "      <th>0</th>\n",
       "      <td>concert_singer</td>\n",
       "      <td>Below is an instruction that describes a task,...</td>\n",
       "      <td>select count ( singer.* )  from singer</td>\n",
       "      <td>SELECT count(*) FROM singerconcert_singer</td>\n",
       "    </tr>\n",
       "    <tr>\n",
       "      <th>1</th>\n",
       "      <td>concert_singer</td>\n",
       "      <td>Below is an instruction that describes a task,...</td>\n",
       "      <td>select count ( singer.* )  from singer</td>\n",
       "      <td>SELECT count(*) FROM singerconcert_singer</td>\n",
       "    </tr>\n",
       "    <tr>\n",
       "      <th>2</th>\n",
       "      <td>concert_singer</td>\n",
       "      <td>Below is an instruction that describes a task,...</td>\n",
       "      <td>select singer.Name , singer.Country , singer.A...</td>\n",
       "      <td>SELECT name ,  country ,  age FROM singer ORDE...</td>\n",
       "    </tr>\n",
       "    <tr>\n",
       "      <th>3</th>\n",
       "      <td>concert_singer</td>\n",
       "      <td>Below is an instruction that describes a task,...</td>\n",
       "      <td>select singer.Name , singer.Country , singer.A...</td>\n",
       "      <td>SELECT name ,  country ,  age FROM singer ORDE...</td>\n",
       "    </tr>\n",
       "    <tr>\n",
       "      <th>4</th>\n",
       "      <td>concert_singer</td>\n",
       "      <td>Below is an instruction that describes a task,...</td>\n",
       "      <td>select avg ( singer.Age )  , min ( singer.Age ...</td>\n",
       "      <td>SELECT avg(age) ,  min(age) ,  max(age) FROM s...</td>\n",
       "    </tr>\n",
       "  </tbody>\n",
       "</table>\n",
       "</div>"
      ],
      "text/plain": [
       "            db_id                                             prompt  \\\n",
       "0  concert_singer  Below is an instruction that describes a task,...   \n",
       "1  concert_singer  Below is an instruction that describes a task,...   \n",
       "2  concert_singer  Below is an instruction that describes a task,...   \n",
       "3  concert_singer  Below is an instruction that describes a task,...   \n",
       "4  concert_singer  Below is an instruction that describes a task,...   \n",
       "\n",
       "                                        ground_truth  \\\n",
       "0             select count ( singer.* )  from singer   \n",
       "1             select count ( singer.* )  from singer   \n",
       "2  select singer.Name , singer.Country , singer.A...   \n",
       "3  select singer.Name , singer.Country , singer.A...   \n",
       "4  select avg ( singer.Age )  , min ( singer.Age ...   \n",
       "\n",
       "                                        runnable_sql  \n",
       "0          SELECT count(*) FROM singerconcert_singer  \n",
       "1          SELECT count(*) FROM singerconcert_singer  \n",
       "2  SELECT name ,  country ,  age FROM singer ORDE...  \n",
       "3  SELECT name ,  country ,  age FROM singer ORDE...  \n",
       "4  SELECT avg(age) ,  min(age) ,  max(age) FROM s...  "
      ]
     },
     "execution_count": 36,
     "metadata": {},
     "output_type": "execute_result"
    }
   ],
   "source": [
    "df_raw[\"runnable_sql\"]=runnable_sql[\"query\"]\n",
    "df_raw.head()"
   ]
  },
  {
   "cell_type": "code",
   "execution_count": 41,
   "id": "6b2db4e7",
   "metadata": {},
   "outputs": [
    {
     "data": {
      "text/html": [
       "<div>\n",
       "<style scoped>\n",
       "    .dataframe tbody tr th:only-of-type {\n",
       "        vertical-align: middle;\n",
       "    }\n",
       "\n",
       "    .dataframe tbody tr th {\n",
       "        vertical-align: top;\n",
       "    }\n",
       "\n",
       "    .dataframe thead th {\n",
       "        text-align: right;\n",
       "    }\n",
       "</style>\n",
       "<table border=\"1\" class=\"dataframe\">\n",
       "  <thead>\n",
       "    <tr style=\"text-align: right;\">\n",
       "      <th></th>\n",
       "      <th>first</th>\n",
       "      <th>second</th>\n",
       "      <th>query</th>\n",
       "    </tr>\n",
       "  </thead>\n",
       "  <tbody>\n",
       "    <tr>\n",
       "      <th>0</th>\n",
       "      <td>SELECT count(*) FROM singer</td>\n",
       "      <td>concert_singer</td>\n",
       "      <td>SELECT count(*) FROM singer concert_singer</td>\n",
       "    </tr>\n",
       "    <tr>\n",
       "      <th>1</th>\n",
       "      <td>SELECT count(*) FROM singer</td>\n",
       "      <td>concert_singer</td>\n",
       "      <td>SELECT count(*) FROM singer concert_singer</td>\n",
       "    </tr>\n",
       "    <tr>\n",
       "      <th>2</th>\n",
       "      <td>SELECT name ,  country ,  age FROM singer ORDE...</td>\n",
       "      <td>concert_singer</td>\n",
       "      <td>SELECT name ,  country ,  age FROM singer ORDE...</td>\n",
       "    </tr>\n",
       "    <tr>\n",
       "      <th>3</th>\n",
       "      <td>SELECT name ,  country ,  age FROM singer ORDE...</td>\n",
       "      <td>concert_singer</td>\n",
       "      <td>SELECT name ,  country ,  age FROM singer ORDE...</td>\n",
       "    </tr>\n",
       "    <tr>\n",
       "      <th>4</th>\n",
       "      <td>SELECT avg(age) ,  min(age) ,  max(age) FROM s...</td>\n",
       "      <td>concert_singer</td>\n",
       "      <td>SELECT avg(age) ,  min(age) ,  max(age) FROM s...</td>\n",
       "    </tr>\n",
       "  </tbody>\n",
       "</table>\n",
       "</div>"
      ],
      "text/plain": [
       "                                               first          second  \\\n",
       "0                        SELECT count(*) FROM singer  concert_singer   \n",
       "1                        SELECT count(*) FROM singer  concert_singer   \n",
       "2  SELECT name ,  country ,  age FROM singer ORDE...  concert_singer   \n",
       "3  SELECT name ,  country ,  age FROM singer ORDE...  concert_singer   \n",
       "4  SELECT avg(age) ,  min(age) ,  max(age) FROM s...  concert_singer   \n",
       "\n",
       "                                               query  \n",
       "0         SELECT count(*) FROM singer concert_singer  \n",
       "1         SELECT count(*) FROM singer concert_singer  \n",
       "2  SELECT name ,  country ,  age FROM singer ORDE...  \n",
       "3  SELECT name ,  country ,  age FROM singer ORDE...  \n",
       "4  SELECT avg(age) ,  min(age) ,  max(age) FROM s...  "
      ]
     },
     "execution_count": 41,
     "metadata": {},
     "output_type": "execute_result"
    }
   ],
   "source": [
    "df1=pd.read_csv(\"runnable_sql.csv\",header=None,names=[\"first\",\"second\"])\n",
    "df1[\"query\"]=df1[\"first\"]+df1[\"second\"].apply(lambda x: \" \" + x if not x.startswith(\" \") else x)\n",
    "df1.head()"
   ]
  },
  {
   "cell_type": "code",
   "execution_count": 42,
   "id": "fbdb468c",
   "metadata": {},
   "outputs": [],
   "source": [
    "df1.drop(columns=[\"first\",\"second\"],inplace=True)\n",
    "df1.to_csv(\"runnable_sql.csv\",index=False)"
   ]
  },
  {
   "cell_type": "code",
   "execution_count": 48,
   "id": "d6636f33",
   "metadata": {},
   "outputs": [
    {
     "data": {
      "text/plain": [
       "0              SELECT count(*) FROM singer concert_singer\n",
       "1              SELECT count(*) FROM singer concert_singer\n",
       "2       SELECT name ,  country ,  age FROM singer ORDE...\n",
       "3       SELECT name ,  country ,  age FROM singer ORDE...\n",
       "4       SELECT avg(age) ,  min(age) ,  max(age) FROM s...\n",
       "                              ...                        \n",
       "1029    SELECT Citizenship FROM singer WHERE Birth_Yea...\n",
       "1030    SELECT count(*) FROM Other_Available_Features ...\n",
       "1031    SELECT T2.feature_type_name FROM Other_Availab...\n",
       "1032    SELECT T2.property_type_description FROM Prope...\n",
       "1033    SELECT property_name FROM Properties WHERE pro...\n",
       "Name: query, Length: 1034, dtype: object"
      ]
     },
     "execution_count": 48,
     "metadata": {},
     "output_type": "execute_result"
    }
   ],
   "source": [
    "df2=pd.read_csv(\"runnable_sql.csv\")\n",
    "df2[\"query\"]"
   ]
  },
  {
   "cell_type": "code",
   "execution_count": 50,
   "id": "4d3ba548",
   "metadata": {},
   "outputs": [
    {
     "data": {
      "text/html": [
       "<div>\n",
       "<style scoped>\n",
       "    .dataframe tbody tr th:only-of-type {\n",
       "        vertical-align: middle;\n",
       "    }\n",
       "\n",
       "    .dataframe tbody tr th {\n",
       "        vertical-align: top;\n",
       "    }\n",
       "\n",
       "    .dataframe thead th {\n",
       "        text-align: right;\n",
       "    }\n",
       "</style>\n",
       "<table border=\"1\" class=\"dataframe\">\n",
       "  <thead>\n",
       "    <tr style=\"text-align: right;\">\n",
       "      <th></th>\n",
       "      <th>query</th>\n",
       "      <th>db</th>\n",
       "    </tr>\n",
       "  </thead>\n",
       "  <tbody>\n",
       "    <tr>\n",
       "      <th>0</th>\n",
       "      <td>SELECT count(*) FROM singer</td>\n",
       "      <td>concert_singer</td>\n",
       "    </tr>\n",
       "    <tr>\n",
       "      <th>1</th>\n",
       "      <td>SELECT count(*) FROM singer</td>\n",
       "      <td>concert_singer</td>\n",
       "    </tr>\n",
       "    <tr>\n",
       "      <th>2</th>\n",
       "      <td>SELECT name ,  country ,  age FROM singer ORDE...</td>\n",
       "      <td>concert_singer</td>\n",
       "    </tr>\n",
       "    <tr>\n",
       "      <th>3</th>\n",
       "      <td>SELECT name ,  country ,  age FROM singer ORDE...</td>\n",
       "      <td>concert_singer</td>\n",
       "    </tr>\n",
       "    <tr>\n",
       "      <th>4</th>\n",
       "      <td>SELECT avg(age) ,  min(age) ,  max(age) FROM s...</td>\n",
       "      <td>concert_singer</td>\n",
       "    </tr>\n",
       "  </tbody>\n",
       "</table>\n",
       "</div>"
      ],
      "text/plain": [
       "                                               query              db\n",
       "0                        SELECT count(*) FROM singer  concert_singer\n",
       "1                        SELECT count(*) FROM singer  concert_singer\n",
       "2  SELECT name ,  country ,  age FROM singer ORDE...  concert_singer\n",
       "3  SELECT name ,  country ,  age FROM singer ORDE...  concert_singer\n",
       "4  SELECT avg(age) ,  min(age) ,  max(age) FROM s...  concert_singer"
      ]
     },
     "execution_count": 50,
     "metadata": {},
     "output_type": "execute_result"
    }
   ],
   "source": [
    "dff=pd.read_csv(\"runnable_sql.csv\",header=None,names=[\"query\",\"db\"])\n",
    "dff.head()"
   ]
  },
  {
   "cell_type": "code",
   "execution_count": 51,
   "id": "c3f75ab8",
   "metadata": {},
   "outputs": [
    {
     "data": {
      "text/plain": [
       "'SELECT count(*) FROM singer'"
      ]
     },
     "execution_count": 51,
     "metadata": {},
     "output_type": "execute_result"
    }
   ],
   "source": [
    "dff[\"query\"][0]"
   ]
  },
  {
   "cell_type": "code",
   "execution_count": 7,
   "id": "3876d3c3",
   "metadata": {},
   "outputs": [
    {
     "data": {
      "text/html": [
       "<div>\n",
       "<style scoped>\n",
       "    .dataframe tbody tr th:only-of-type {\n",
       "        vertical-align: middle;\n",
       "    }\n",
       "\n",
       "    .dataframe tbody tr th {\n",
       "        vertical-align: top;\n",
       "    }\n",
       "\n",
       "    .dataframe thead th {\n",
       "        text-align: right;\n",
       "    }\n",
       "</style>\n",
       "<table border=\"1\" class=\"dataframe\">\n",
       "  <thead>\n",
       "    <tr style=\"text-align: right;\">\n",
       "      <th></th>\n",
       "      <th>original_nl</th>\n",
       "      <th>paraphrased_nl</th>\n",
       "      <th>gt_nl</th>\n",
       "      <th>generated_sql</th>\n",
       "      <th>matched</th>\n",
       "    </tr>\n",
       "  </thead>\n",
       "  <tbody>\n",
       "    <tr>\n",
       "      <th>0</th>\n",
       "      <td>How many singers do we have?</td>\n",
       "      <td>What is the count of all singers?</td>\n",
       "      <td>SELECT count(*) FROM singer</td>\n",
       "      <td>SELECT COUNT(*) AS singer_count FROM singer;</td>\n",
       "      <td>True</td>\n",
       "    </tr>\n",
       "    <tr>\n",
       "      <th>1</th>\n",
       "      <td>What is the total number of singers?</td>\n",
       "      <td>What is the overall count of singers?</td>\n",
       "      <td>SELECT count(*) FROM singer</td>\n",
       "      <td>SELECT COUNT(*) AS overall_count_of_singers FR...</td>\n",
       "      <td>True</td>\n",
       "    </tr>\n",
       "    <tr>\n",
       "      <th>2</th>\n",
       "      <td>Show name, country, age for all singers ordere...</td>\n",
       "      <td>What singers are being displayed, where they a...</td>\n",
       "      <td>SELECT name ,  country ,  age FROM singer ORDE...</td>\n",
       "      <td>SELECT s.name AS singer_name, s.country AS sin...</td>\n",
       "      <td>False</td>\n",
       "    </tr>\n",
       "    <tr>\n",
       "      <th>3</th>\n",
       "      <td>What are the names, countries, and ages for ev...</td>\n",
       "      <td>What are the singer's name, country, and age f...</td>\n",
       "      <td>SELECT name ,  country ,  age FROM singer ORDE...</td>\n",
       "      <td>SELECT name , country , age FROM singer ORDER ...</td>\n",
       "      <td>True</td>\n",
       "    </tr>\n",
       "    <tr>\n",
       "      <th>4</th>\n",
       "      <td>What is the average, minimum, and maximum age ...</td>\n",
       "      <td>What are the mean, lowest, and highest ages of...</td>\n",
       "      <td>SELECT avg(age) ,  min(age) ,  max(age) FROM s...</td>\n",
       "      <td>SELECT AVG(age) AS mean_age, MIN(age) AS lowes...</td>\n",
       "      <td>True</td>\n",
       "    </tr>\n",
       "  </tbody>\n",
       "</table>\n",
       "</div>"
      ],
      "text/plain": [
       "                                         original_nl  \\\n",
       "0                       How many singers do we have?   \n",
       "1               What is the total number of singers?   \n",
       "2  Show name, country, age for all singers ordere...   \n",
       "3  What are the names, countries, and ages for ev...   \n",
       "4  What is the average, minimum, and maximum age ...   \n",
       "\n",
       "                                      paraphrased_nl  \\\n",
       "0                  What is the count of all singers?   \n",
       "1              What is the overall count of singers?   \n",
       "2  What singers are being displayed, where they a...   \n",
       "3  What are the singer's name, country, and age f...   \n",
       "4  What are the mean, lowest, and highest ages of...   \n",
       "\n",
       "                                               gt_nl  \\\n",
       "0                        SELECT count(*) FROM singer   \n",
       "1                        SELECT count(*) FROM singer   \n",
       "2  SELECT name ,  country ,  age FROM singer ORDE...   \n",
       "3  SELECT name ,  country ,  age FROM singer ORDE...   \n",
       "4  SELECT avg(age) ,  min(age) ,  max(age) FROM s...   \n",
       "\n",
       "                                       generated_sql  matched  \n",
       "0       SELECT COUNT(*) AS singer_count FROM singer;     True  \n",
       "1  SELECT COUNT(*) AS overall_count_of_singers FR...     True  \n",
       "2  SELECT s.name AS singer_name, s.country AS sin...    False  \n",
       "3  SELECT name , country , age FROM singer ORDER ...     True  \n",
       "4  SELECT AVG(age) AS mean_age, MIN(age) AS lowes...     True  "
      ]
     },
     "execution_count": 7,
     "metadata": {},
     "output_type": "execute_result"
    }
   ],
   "source": [
    "import pandas as pd\n",
    "result_df=pd.read_csv(\"../results.csv\")\n",
    "result_df.head()"
   ]
  },
  {
   "cell_type": "code",
   "execution_count": 8,
   "id": "668cebf6",
   "metadata": {},
   "outputs": [
    {
     "data": {
      "text/html": [
       "<div>\n",
       "<style scoped>\n",
       "    .dataframe tbody tr th:only-of-type {\n",
       "        vertical-align: middle;\n",
       "    }\n",
       "\n",
       "    .dataframe tbody tr th {\n",
       "        vertical-align: top;\n",
       "    }\n",
       "\n",
       "    .dataframe thead th {\n",
       "        text-align: right;\n",
       "    }\n",
       "</style>\n",
       "<table border=\"1\" class=\"dataframe\">\n",
       "  <thead>\n",
       "    <tr style=\"text-align: right;\">\n",
       "      <th></th>\n",
       "      <th>original_nl</th>\n",
       "      <th>paraphrased_nl</th>\n",
       "      <th>gt_nl</th>\n",
       "      <th>generated_sql</th>\n",
       "      <th>matched</th>\n",
       "    </tr>\n",
       "  </thead>\n",
       "  <tbody>\n",
       "    <tr>\n",
       "      <th>2</th>\n",
       "      <td>Show name, country, age for all singers ordere...</td>\n",
       "      <td>What singers are being displayed, where they a...</td>\n",
       "      <td>SELECT name ,  country ,  age FROM singer ORDE...</td>\n",
       "      <td>SELECT s.name AS singer_name, s.country AS sin...</td>\n",
       "      <td>False</td>\n",
       "    </tr>\n",
       "    <tr>\n",
       "      <th>11</th>\n",
       "      <td>How many singers are from each country?</td>\n",
       "      <td>What is the count of distinct countries for ea...</td>\n",
       "      <td>SELECT country ,  count(*) FROM singer GROUP B...</td>\n",
       "      <td>SELECT s.singer_id, COUNT(DISTINCT s.country) ...</td>\n",
       "      <td>False</td>\n",
       "    </tr>\n",
       "    <tr>\n",
       "      <th>26</th>\n",
       "      <td>Which year has most number of concerts?</td>\n",
       "      <td>What is the year with the highest count of con...</td>\n",
       "      <td>SELECT YEAR FROM concert GROUP BY YEAR ORDER B...</td>\n",
       "      <td>SELECT concert.year, COUNT(concert.concert_id)...</td>\n",
       "      <td>False</td>\n",
       "    </tr>\n",
       "    <tr>\n",
       "      <th>27</th>\n",
       "      <td>What is the year that had the most concerts?</td>\n",
       "      <td>What is the year that had the highest number o...</td>\n",
       "      <td>SELECT YEAR FROM concert GROUP BY YEAR ORDER B...</td>\n",
       "      <td>SELECT concert.year, COUNT(concert.concert_id)...</td>\n",
       "      <td>False</td>\n",
       "    </tr>\n",
       "    <tr>\n",
       "      <th>30</th>\n",
       "      <td>Show countries where a singer above age 40 and...</td>\n",
       "      <td>What countries are represented by singers who ...</td>\n",
       "      <td>SELECT country FROM singer WHERE age  &gt;  40 IN...</td>\n",
       "      <td>SELECT DISTINCT s.country FROM singer s WHERE ...</td>\n",
       "      <td>False</td>\n",
       "    </tr>\n",
       "  </tbody>\n",
       "</table>\n",
       "</div>"
      ],
      "text/plain": [
       "                                          original_nl  \\\n",
       "2   Show name, country, age for all singers ordere...   \n",
       "11            How many singers are from each country?   \n",
       "26            Which year has most number of concerts?   \n",
       "27       What is the year that had the most concerts?   \n",
       "30  Show countries where a singer above age 40 and...   \n",
       "\n",
       "                                       paraphrased_nl  \\\n",
       "2   What singers are being displayed, where they a...   \n",
       "11  What is the count of distinct countries for ea...   \n",
       "26  What is the year with the highest count of con...   \n",
       "27  What is the year that had the highest number o...   \n",
       "30  What countries are represented by singers who ...   \n",
       "\n",
       "                                                gt_nl  \\\n",
       "2   SELECT name ,  country ,  age FROM singer ORDE...   \n",
       "11  SELECT country ,  count(*) FROM singer GROUP B...   \n",
       "26  SELECT YEAR FROM concert GROUP BY YEAR ORDER B...   \n",
       "27  SELECT YEAR FROM concert GROUP BY YEAR ORDER B...   \n",
       "30  SELECT country FROM singer WHERE age  >  40 IN...   \n",
       "\n",
       "                                        generated_sql  matched  \n",
       "2   SELECT s.name AS singer_name, s.country AS sin...    False  \n",
       "11  SELECT s.singer_id, COUNT(DISTINCT s.country) ...    False  \n",
       "26  SELECT concert.year, COUNT(concert.concert_id)...    False  \n",
       "27  SELECT concert.year, COUNT(concert.concert_id)...    False  \n",
       "30  SELECT DISTINCT s.country FROM singer s WHERE ...    False  "
      ]
     },
     "execution_count": 8,
     "metadata": {},
     "output_type": "execute_result"
    }
   ],
   "source": [
    "false_df=result_df[result_df[\"matched\"]==False]\n",
    "false_df.head()"
   ]
  },
  {
   "cell_type": "code",
   "execution_count": 10,
   "id": "23f5e3d7",
   "metadata": {},
   "outputs": [
    {
     "name": "stdout",
     "output_type": "stream",
     "text": [
      "Which year has most number of concerts?\n",
      "What is the year with the highest count of concerts?\n",
      "SELECT YEAR FROM concert GROUP BY YEAR ORDER BY count(*) DESC LIMIT 1\n",
      "SELECT concert.year, COUNT(concert.concert_id) AS concert_count FROM concert GROUP BY concert.year ORDER BY concert_count DESC LIMIT 1;\n"
     ]
    }
   ],
   "source": [
    "n=2\n",
    "print(false_df.iloc[n][\"original_nl\"])\n",
    "print(false_df.iloc[n][\"paraphrased_nl\"])\n",
    "print(false_df.iloc[n][\"gt_nl\"])\n",
    "print(false_df.iloc[n][\"generated_sql\"])"
   ]
  },
  {
   "cell_type": "code",
   "execution_count": null,
   "id": "c0ed719e",
   "metadata": {},
   "outputs": [
    {
     "data": {
      "text/plain": [
       "\"SELECT name ,  country FROM singer WHERE song_name LIKE '%Hey%'\""
      ]
     },
     "execution_count": 4,
     "metadata": {},
     "output_type": "execute_result"
    }
   ],
   "source": [
    "print(false_df.iloc[n][\"gt_nl\"])\n",
    "print(false_df.iloc[n][\"generated_sql\"])"
   ]
  },
  {
   "cell_type": "code",
   "execution_count": 5,
   "id": "bf9e0180",
   "metadata": {},
   "outputs": [
    {
     "data": {
      "text/plain": [
       "\"SELECT s.name FROM singer s JOIN singer_in_concert sic ON s.singer_id = sic.singer_id JOIN concert c ON sic.concert_id = c.concert_id WHERE s.song_name LIKE '%Hey%'\""
      ]
     },
     "execution_count": 5,
     "metadata": {},
     "output_type": "execute_result"
    }
   ],
   "source": [
    "false_df.iloc[14][\"generated_sql\"]"
   ]
  },
  {
   "cell_type": "code",
   "execution_count": 9,
   "id": "182944dd",
   "metadata": {},
   "outputs": [
    {
     "name": "stdout",
     "output_type": "stream",
     "text": [
      "['25' 'Ak' '34.5']\n",
      "['34.5' '25.0' 'Ak']\n"
     ]
    }
   ],
   "source": [
    "import numpy as np\n",
    "import pandas as pd\n",
    "a1=np.array([[\"25\" , \"Ak\" , 34.5]])\n",
    "a2=np.array([[34.5, 25. , \"Ak\" ]])\n",
    "print(sorted(a1)[0])\n",
    "print(sorted(a2)[0])"
   ]
  },
  {
   "cell_type": "code",
   "execution_count": 5,
   "id": "0664e798",
   "metadata": {},
   "outputs": [],
   "source": [
    "a_str = sorted([\"|\".join(map(str, map(lambda x: '' if pd.isna(x) else x, row))) for row in a1])\n",
    "b_str = sorted([\"|\".join(map(str, map(lambda x: '' if pd.isna(x) else x, row))) for row in a2])"
   ]
  },
  {
   "cell_type": "code",
   "execution_count": 10,
   "id": "a6801835",
   "metadata": {},
   "outputs": [
    {
     "name": "stdout",
     "output_type": "stream",
     "text": [
      "['25.0|43.0|34.5']\n",
      "['34.5|25.0|43.0']\n"
     ]
    }
   ],
   "source": [
    "print(a_str)\n",
    "print(b_str)"
   ]
  },
  {
   "cell_type": "code",
   "execution_count": 14,
   "id": "ae6f2c7a",
   "metadata": {},
   "outputs": [
    {
     "name": "stdout",
     "output_type": "stream",
     "text": [
      "['34.5|25.0|43.0']\n"
     ]
    }
   ],
   "source": [
    "print(np.sort(b_str))\n"
   ]
  },
  {
   "cell_type": "code",
   "execution_count": null,
   "id": "953f0dee",
   "metadata": {},
   "outputs": [
    {
     "ename": "TypeError",
     "evalue": "DataFrame.__init__() got an unexpected keyword argument 'headers'",
     "output_type": "error",
     "traceback": [
      "\u001b[31m---------------------------------------------------------------------------\u001b[39m",
      "\u001b[31mTypeError\u001b[39m                                 Traceback (most recent call last)",
      "\u001b[36mCell\u001b[39m\u001b[36m \u001b[39m\u001b[32mIn[19]\u001b[39m\u001b[32m, line 1\u001b[39m\n\u001b[32m----> \u001b[39m\u001b[32m1\u001b[39m arr1 = \u001b[43mpd\u001b[49m\u001b[43m.\u001b[49m\u001b[43mDataFrame\u001b[49m\u001b[43m(\u001b[49m\u001b[43m[\u001b[49m\u001b[43m[\u001b[49m\u001b[33;43m\"\u001b[39;49m\u001b[33;43mCountry\u001b[39;49m\u001b[33;43m\"\u001b[39;49m\u001b[43m,\u001b[49m\u001b[43m \u001b[49m\u001b[33;43m\"\u001b[39;49m\u001b[33;43mCount\u001b[39;49m\u001b[33;43m\"\u001b[39;49m\u001b[43m]\u001b[49m\u001b[43m,\u001b[49m\n\u001b[32m      2\u001b[39m \u001b[43m    \u001b[49m\u001b[43m[\u001b[49m\u001b[33;43m'\u001b[39;49m\u001b[33;43mFrance\u001b[39;49m\u001b[33;43m'\u001b[39;49m\u001b[43m,\u001b[49m\u001b[43m \u001b[49m\u001b[32;43m4\u001b[39;49m\u001b[43m]\u001b[49m\u001b[43m,\u001b[49m\n\u001b[32m      3\u001b[39m \u001b[43m                \u001b[49m\u001b[43m[\u001b[49m\u001b[33;43m'\u001b[39;49m\u001b[33;43mNetherlands\u001b[39;49m\u001b[33;43m'\u001b[39;49m\u001b[43m,\u001b[49m\u001b[43m \u001b[49m\u001b[32;43m1\u001b[39;49m\u001b[43m]\u001b[49m\u001b[43m,\u001b[49m\n\u001b[32m      4\u001b[39m \u001b[43m                \u001b[49m\u001b[43m[\u001b[49m\u001b[33;43m'\u001b[39;49m\u001b[33;43mUnited States\u001b[39;49m\u001b[33;43m'\u001b[39;49m\u001b[43m,\u001b[49m\u001b[43m \u001b[49m\u001b[32;43m1\u001b[39;49m\u001b[43m]\u001b[49m\u001b[43m]\u001b[49m\u001b[43m,\u001b[49m\u001b[43mheaders\u001b[49m\u001b[43m=\u001b[49m\u001b[38;5;28;43;01mNone\u001b[39;49;00m\u001b[43m)\u001b[49m\n\u001b[32m      5\u001b[39m arr2=pd.DataFrame([[\u001b[33m\"\u001b[39m\u001b[33mCountry\u001b[39m\u001b[33m\"\u001b[39m, \u001b[33m\"\u001b[39m\u001b[33mCount\u001b[39m\u001b[33m\"\u001b[39m],\n\u001b[32m      6\u001b[39m     [\u001b[33m'\u001b[39m\u001b[33mNetherlands\u001b[39m\u001b[33m'\u001b[39m, \u001b[32m1\u001b[39m],\n\u001b[32m      7\u001b[39m                 [\u001b[33m'\u001b[39m\u001b[33mUnited States\u001b[39m\u001b[33m'\u001b[39m, \u001b[32m1\u001b[39m],\n\u001b[32m      8\u001b[39m                 [\u001b[33m'\u001b[39m\u001b[33mFrance\u001b[39m\u001b[33m'\u001b[39m, \u001b[32m4\u001b[39m],],headers=\u001b[38;5;28;01mNone\u001b[39;00m)\n\u001b[32m     11\u001b[39m \u001b[38;5;28mprint\u001b[39m(arr1)\n",
      "\u001b[31mTypeError\u001b[39m: DataFrame.__init__() got an unexpected keyword argument 'headers'"
     ]
    }
   ],
   "source": [
    "arr1 = pd.DataFrame([[\"Country\", \"Count\"],\n",
    "    ['France', 4],\n",
    "                ['Netherlands', 1],\n",
    "                ['United States', 1]])\n",
    "arr2=pd.DataFrame([[\"Country\", \"Count\"],\n",
    "    ['Netherlands', 1],\n",
    "                ['United States', 1],\n",
    "                ['France', 4],],headers=None)\n",
    "\n",
    "\n",
    "print(arr1)\n",
    "print(arr2)\n"
   ]
  },
  {
   "cell_type": "code",
   "execution_count": 1,
   "id": "351d6299",
   "metadata": {},
   "outputs": [
    {
     "data": {
      "text/html": [
       "<div>\n",
       "<style scoped>\n",
       "    .dataframe tbody tr th:only-of-type {\n",
       "        vertical-align: middle;\n",
       "    }\n",
       "\n",
       "    .dataframe tbody tr th {\n",
       "        vertical-align: top;\n",
       "    }\n",
       "\n",
       "    .dataframe thead th {\n",
       "        text-align: right;\n",
       "    }\n",
       "</style>\n",
       "<table border=\"1\" class=\"dataframe\">\n",
       "  <thead>\n",
       "    <tr style=\"text-align: right;\">\n",
       "      <th></th>\n",
       "      <th>db_id</th>\n",
       "      <th>prompt</th>\n",
       "      <th>ground_truth</th>\n",
       "      <th>Question</th>\n",
       "      <th>paraphrased_nl</th>\n",
       "      <th>gt_nl</th>\n",
       "    </tr>\n",
       "  </thead>\n",
       "  <tbody>\n",
       "    <tr>\n",
       "      <th>0</th>\n",
       "      <td>concert_singer</td>\n",
       "      <td>Below is an instruction that describes a task,...</td>\n",
       "      <td>select count ( singer.* )  from singer</td>\n",
       "      <td>How many singers do we have?</td>\n",
       "      <td>What is the total count of singers in the data...</td>\n",
       "      <td>SELECT count(*) FROM singer</td>\n",
       "    </tr>\n",
       "    <tr>\n",
       "      <th>1</th>\n",
       "      <td>concert_singer</td>\n",
       "      <td>Below is an instruction that describes a task,...</td>\n",
       "      <td>select count ( singer.* )  from singer</td>\n",
       "      <td>What is the total number of singers?</td>\n",
       "      <td>What is the overall count of singers in the da...</td>\n",
       "      <td>SELECT count(*) FROM singer</td>\n",
       "    </tr>\n",
       "    <tr>\n",
       "      <th>2</th>\n",
       "      <td>concert_singer</td>\n",
       "      <td>Below is an instruction that describes a task,...</td>\n",
       "      <td>select singer.Name , singer.Country , singer.A...</td>\n",
       "      <td>Show name, country, age for all singers ordere...</td>\n",
       "      <td>What are the names, countries of origin, and a...</td>\n",
       "      <td>SELECT name ,  country ,  age FROM singer ORDE...</td>\n",
       "    </tr>\n",
       "    <tr>\n",
       "      <th>3</th>\n",
       "      <td>concert_singer</td>\n",
       "      <td>Below is an instruction that describes a task,...</td>\n",
       "      <td>select singer.Name , singer.Country , singer.A...</td>\n",
       "      <td>What are the names, countries, and ages for ev...</td>\n",
       "      <td>What are the singer's names, countries, and ag...</td>\n",
       "      <td>SELECT name ,  country ,  age FROM singer ORDE...</td>\n",
       "    </tr>\n",
       "    <tr>\n",
       "      <th>4</th>\n",
       "      <td>concert_singer</td>\n",
       "      <td>Below is an instruction that describes a task,...</td>\n",
       "      <td>select avg ( singer.Age )  , min ( singer.Age ...</td>\n",
       "      <td>What is the average, minimum, and maximum age ...</td>\n",
       "      <td>What are the mean, lowest, and highest ages of...</td>\n",
       "      <td>SELECT avg(age) ,  min(age) ,  max(age) FROM s...</td>\n",
       "    </tr>\n",
       "  </tbody>\n",
       "</table>\n",
       "</div>"
      ],
      "text/plain": [
       "            db_id                                             prompt  \\\n",
       "0  concert_singer  Below is an instruction that describes a task,...   \n",
       "1  concert_singer  Below is an instruction that describes a task,...   \n",
       "2  concert_singer  Below is an instruction that describes a task,...   \n",
       "3  concert_singer  Below is an instruction that describes a task,...   \n",
       "4  concert_singer  Below is an instruction that describes a task,...   \n",
       "\n",
       "                                        ground_truth  \\\n",
       "0             select count ( singer.* )  from singer   \n",
       "1             select count ( singer.* )  from singer   \n",
       "2  select singer.Name , singer.Country , singer.A...   \n",
       "3  select singer.Name , singer.Country , singer.A...   \n",
       "4  select avg ( singer.Age )  , min ( singer.Age ...   \n",
       "\n",
       "                                            Question  \\\n",
       "0                       How many singers do we have?   \n",
       "1               What is the total number of singers?   \n",
       "2  Show name, country, age for all singers ordere...   \n",
       "3  What are the names, countries, and ages for ev...   \n",
       "4  What is the average, minimum, and maximum age ...   \n",
       "\n",
       "                                      paraphrased_nl  \\\n",
       "0  What is the total count of singers in the data...   \n",
       "1  What is the overall count of singers in the da...   \n",
       "2  What are the names, countries of origin, and a...   \n",
       "3  What are the singer's names, countries, and ag...   \n",
       "4  What are the mean, lowest, and highest ages of...   \n",
       "\n",
       "                                               gt_nl  \n",
       "0                        SELECT count(*) FROM singer  \n",
       "1                        SELECT count(*) FROM singer  \n",
       "2  SELECT name ,  country ,  age FROM singer ORDE...  \n",
       "3  SELECT name ,  country ,  age FROM singer ORDE...  \n",
       "4  SELECT avg(age) ,  min(age) ,  max(age) FROM s...  "
      ]
     },
     "execution_count": 1,
     "metadata": {},
     "output_type": "execute_result"
    }
   ],
   "source": [
    "import pandas as pd\n",
    "df = pd.read_csv(\"../outputs/output_paraphrased.csv\")\n",
    "df_runnable_sql = pd.read_csv(\"../dataset/runnable_sql.csv\", header=None, names=[\"gt_nl\", \"db_id\"])\n",
    "df[\"gt_nl\"] = df_runnable_sql[\"gt_nl\"]\n",
    "df.head()"
   ]
  },
  {
   "cell_type": "code",
   "execution_count": null,
   "id": "eb35a0fb",
   "metadata": {},
   "outputs": [],
   "source": []
  }
 ],
 "metadata": {
  "kernelspec": {
   "display_name": "myenv",
   "language": "python",
   "name": "python3"
  },
  "language_info": {
   "codemirror_mode": {
    "name": "ipython",
    "version": 3
   },
   "file_extension": ".py",
   "mimetype": "text/x-python",
   "name": "python",
   "nbconvert_exporter": "python",
   "pygments_lexer": "ipython3",
   "version": "3.12.9"
  }
 },
 "nbformat": 4,
 "nbformat_minor": 5
}
